{
 "cells": [
  {
   "cell_type": "code",
   "execution_count": 1,
   "id": "technological-price",
   "metadata": {},
   "outputs": [],
   "source": [
    "import pandas_datareader as web\n",
    "from datetime import date\n",
    "from dateutil.relativedelta import relativedelta\n",
    "import pandas as pd\n",
    "import numpy as np\n",
    "import matplotlib.pyplot as plt\n",
    "import seaborn as sns\n",
    "from sklearn import metrics\n",
    "from sklearn.tree import DecisionTreeRegressor\n",
    "from sklearn.linear_model import LinearRegression\n",
    "from sklearn.neighbors import KNeighborsRegressor\n",
    "%matplotlib inline"
   ]
  },
  {
   "cell_type": "code",
   "execution_count": 2,
   "id": "weird-malawi",
   "metadata": {},
   "outputs": [
    {
     "data": {
      "text/html": [
       "<div>\n",
       "<style scoped>\n",
       "    .dataframe tbody tr th:only-of-type {\n",
       "        vertical-align: middle;\n",
       "    }\n",
       "\n",
       "    .dataframe tbody tr th {\n",
       "        vertical-align: top;\n",
       "    }\n",
       "\n",
       "    .dataframe thead th {\n",
       "        text-align: right;\n",
       "    }\n",
       "</style>\n",
       "<table border=\"1\" class=\"dataframe\">\n",
       "  <thead>\n",
       "    <tr style=\"text-align: right;\">\n",
       "      <th></th>\n",
       "      <th>High</th>\n",
       "      <th>Low</th>\n",
       "      <th>Open</th>\n",
       "      <th>Close</th>\n",
       "      <th>Volume</th>\n",
       "      <th>Adj Close</th>\n",
       "    </tr>\n",
       "    <tr>\n",
       "      <th>Date</th>\n",
       "      <th></th>\n",
       "      <th></th>\n",
       "      <th></th>\n",
       "      <th></th>\n",
       "      <th></th>\n",
       "      <th></th>\n",
       "    </tr>\n",
       "  </thead>\n",
       "  <tbody>\n",
       "    <tr>\n",
       "      <th>2017-03-13</th>\n",
       "      <td>237.860001</td>\n",
       "      <td>237.240005</td>\n",
       "      <td>237.619995</td>\n",
       "      <td>237.809998</td>\n",
       "      <td>57256800.0</td>\n",
       "      <td>220.553299</td>\n",
       "    </tr>\n",
       "    <tr>\n",
       "      <th>2017-03-14</th>\n",
       "      <td>237.240005</td>\n",
       "      <td>236.190002</td>\n",
       "      <td>237.179993</td>\n",
       "      <td>236.899994</td>\n",
       "      <td>59880800.0</td>\n",
       "      <td>219.709335</td>\n",
       "    </tr>\n",
       "    <tr>\n",
       "      <th>2017-03-15</th>\n",
       "      <td>239.440002</td>\n",
       "      <td>237.289993</td>\n",
       "      <td>237.559998</td>\n",
       "      <td>238.949997</td>\n",
       "      <td>96081800.0</td>\n",
       "      <td>221.610596</td>\n",
       "    </tr>\n",
       "    <tr>\n",
       "      <th>2017-03-16</th>\n",
       "      <td>239.199997</td>\n",
       "      <td>238.100006</td>\n",
       "      <td>239.110001</td>\n",
       "      <td>238.479996</td>\n",
       "      <td>78344000.0</td>\n",
       "      <td>221.174667</td>\n",
       "    </tr>\n",
       "    <tr>\n",
       "      <th>2017-03-17</th>\n",
       "      <td>237.970001</td>\n",
       "      <td>237.029999</td>\n",
       "      <td>237.750000</td>\n",
       "      <td>237.029999</td>\n",
       "      <td>89002100.0</td>\n",
       "      <td>220.786240</td>\n",
       "    </tr>\n",
       "    <tr>\n",
       "      <th>...</th>\n",
       "      <td>...</td>\n",
       "      <td>...</td>\n",
       "      <td>...</td>\n",
       "      <td>...</td>\n",
       "      <td>...</td>\n",
       "      <td>...</td>\n",
       "    </tr>\n",
       "    <tr>\n",
       "      <th>2021-03-05</th>\n",
       "      <td>384.760010</td>\n",
       "      <td>372.640015</td>\n",
       "      <td>380.459991</td>\n",
       "      <td>383.630005</td>\n",
       "      <td>151959800.0</td>\n",
       "      <td>383.630005</td>\n",
       "    </tr>\n",
       "    <tr>\n",
       "      <th>2021-03-08</th>\n",
       "      <td>387.679993</td>\n",
       "      <td>381.420013</td>\n",
       "      <td>384.660004</td>\n",
       "      <td>381.720001</td>\n",
       "      <td>122957100.0</td>\n",
       "      <td>381.720001</td>\n",
       "    </tr>\n",
       "    <tr>\n",
       "      <th>2021-03-09</th>\n",
       "      <td>389.910004</td>\n",
       "      <td>385.309998</td>\n",
       "      <td>385.850006</td>\n",
       "      <td>387.170013</td>\n",
       "      <td>113457800.0</td>\n",
       "      <td>387.170013</td>\n",
       "    </tr>\n",
       "    <tr>\n",
       "      <th>2021-03-10</th>\n",
       "      <td>391.399994</td>\n",
       "      <td>388.170013</td>\n",
       "      <td>389.690002</td>\n",
       "      <td>389.579987</td>\n",
       "      <td>109660800.0</td>\n",
       "      <td>389.579987</td>\n",
       "    </tr>\n",
       "    <tr>\n",
       "      <th>2021-03-11</th>\n",
       "      <td>395.649994</td>\n",
       "      <td>391.739990</td>\n",
       "      <td>392.230011</td>\n",
       "      <td>393.529999</td>\n",
       "      <td>86246140.0</td>\n",
       "      <td>393.529999</td>\n",
       "    </tr>\n",
       "  </tbody>\n",
       "</table>\n",
       "<p>1007 rows × 6 columns</p>\n",
       "</div>"
      ],
      "text/plain": [
       "                  High         Low        Open       Close       Volume  \\\n",
       "Date                                                                      \n",
       "2017-03-13  237.860001  237.240005  237.619995  237.809998   57256800.0   \n",
       "2017-03-14  237.240005  236.190002  237.179993  236.899994   59880800.0   \n",
       "2017-03-15  239.440002  237.289993  237.559998  238.949997   96081800.0   \n",
       "2017-03-16  239.199997  238.100006  239.110001  238.479996   78344000.0   \n",
       "2017-03-17  237.970001  237.029999  237.750000  237.029999   89002100.0   \n",
       "...                ...         ...         ...         ...          ...   \n",
       "2021-03-05  384.760010  372.640015  380.459991  383.630005  151959800.0   \n",
       "2021-03-08  387.679993  381.420013  384.660004  381.720001  122957100.0   \n",
       "2021-03-09  389.910004  385.309998  385.850006  387.170013  113457800.0   \n",
       "2021-03-10  391.399994  388.170013  389.690002  389.579987  109660800.0   \n",
       "2021-03-11  395.649994  391.739990  392.230011  393.529999   86246140.0   \n",
       "\n",
       "             Adj Close  \n",
       "Date                    \n",
       "2017-03-13  220.553299  \n",
       "2017-03-14  219.709335  \n",
       "2017-03-15  221.610596  \n",
       "2017-03-16  221.174667  \n",
       "2017-03-17  220.786240  \n",
       "...                ...  \n",
       "2021-03-05  383.630005  \n",
       "2021-03-08  381.720001  \n",
       "2021-03-09  387.170013  \n",
       "2021-03-10  389.579987  \n",
       "2021-03-11  393.529999  \n",
       "\n",
       "[1007 rows x 6 columns]"
      ]
     },
     "execution_count": 2,
     "metadata": {},
     "output_type": "execute_result"
    }
   ],
   "source": [
    "# take a look at SPY\n",
    "df = pd.read_csv('../data/SPY.csv', index_col='Date', parse_dates=True)\n",
    "df"
   ]
  },
  {
   "cell_type": "code",
   "execution_count": 3,
   "id": "statistical-bench",
   "metadata": {},
   "outputs": [
    {
     "data": {
      "text/plain": [
       "High         0\n",
       "Low          0\n",
       "Open         0\n",
       "Close        0\n",
       "Volume       0\n",
       "Adj Close    0\n",
       "dtype: int64"
      ]
     },
     "execution_count": 3,
     "metadata": {},
     "output_type": "execute_result"
    }
   ],
   "source": [
    "# check for null values\n",
    "df.isnull().sum()"
   ]
  },
  {
   "cell_type": "code",
   "execution_count": 4,
   "id": "contrary-mother",
   "metadata": {},
   "outputs": [
    {
     "data": {
      "text/plain": [
       "Text(0.5, 1.0, 'SPY')"
      ]
     },
     "execution_count": 4,
     "metadata": {},
     "output_type": "execute_result"
    },
    {
     "data": {
      "image/png": "[encoded data removed]",
      "text/plain": [
       "<Figure size 432x288 with 1 Axes>"
      ]
     },
     "metadata": {},
     "output_type": "display_data"
    }
   ],
   "source": [
    "# plot adjusted close\n",
    "sns.set_style('whitegrid')\n",
    "df['Adj Close'].plot()\n",
    "plt.xlabel('Date')\n",
    "plt.ylabel('Adj Close [USD]')\n",
    "plt.title('SPY')"
   ]
  },
  {
   "cell_type": "code",
   "execution_count": 5,
   "id": "secret-dress",
   "metadata": {},
   "outputs": [],
   "source": [
    "future_days = 30  # number of days lookahead for future value\n",
    "# add target data as 30 day price prediction\n",
    "df['Future'] = df['Adj Close'].shift(-future_days)"
   ]
  },
  {
   "cell_type": "code",
   "execution_count": 6,
   "id": "convertible-keyboard",
   "metadata": {
    "scrolled": true
   },
   "outputs": [
    {
     "data": {
      "text/html": [
       "<div>\n",
       "<style scoped>\n",
       "    .dataframe tbody tr th:only-of-type {\n",
       "        vertical-align: middle;\n",
       "    }\n",
       "\n",
       "    .dataframe tbody tr th {\n",
       "        vertical-align: top;\n",
       "    }\n",
       "\n",
       "    .dataframe thead th {\n",
       "        text-align: right;\n",
       "    }\n",
       "</style>\n",
       "<table border=\"1\" class=\"dataframe\">\n",
       "  <thead>\n",
       "    <tr style=\"text-align: right;\">\n",
       "      <th></th>\n",
       "      <th>High</th>\n",
       "      <th>Low</th>\n",
       "      <th>Open</th>\n",
       "      <th>Close</th>\n",
       "      <th>Volume</th>\n",
       "      <th>Adj Close</th>\n",
       "      <th>Future</th>\n",
       "    </tr>\n",
       "    <tr>\n",
       "      <th>Date</th>\n",
       "      <th></th>\n",
       "      <th></th>\n",
       "      <th></th>\n",
       "      <th></th>\n",
       "      <th></th>\n",
       "      <th></th>\n",
       "      <th></th>\n",
       "    </tr>\n",
       "  </thead>\n",
       "  <tbody>\n",
       "    <tr>\n",
       "      <th>2017-03-13</th>\n",
       "      <td>237.860001</td>\n",
       "      <td>237.240005</td>\n",
       "      <td>237.619995</td>\n",
       "      <td>237.809998</td>\n",
       "      <td>57256800.0</td>\n",
       "      <td>220.553299</td>\n",
       "      <td>222.202072</td>\n",
       "    </tr>\n",
       "    <tr>\n",
       "      <th>2017-03-14</th>\n",
       "      <td>237.240005</td>\n",
       "      <td>236.190002</td>\n",
       "      <td>237.179993</td>\n",
       "      <td>236.899994</td>\n",
       "      <td>59880800.0</td>\n",
       "      <td>219.709335</td>\n",
       "      <td>222.062378</td>\n",
       "    </tr>\n",
       "    <tr>\n",
       "      <th>2017-03-15</th>\n",
       "      <td>239.440002</td>\n",
       "      <td>237.289993</td>\n",
       "      <td>237.559998</td>\n",
       "      <td>238.949997</td>\n",
       "      <td>96081800.0</td>\n",
       "      <td>221.610596</td>\n",
       "      <td>222.248642</td>\n",
       "    </tr>\n",
       "    <tr>\n",
       "      <th>2017-03-16</th>\n",
       "      <td>239.199997</td>\n",
       "      <td>238.100006</td>\n",
       "      <td>239.110001</td>\n",
       "      <td>238.479996</td>\n",
       "      <td>78344000.0</td>\n",
       "      <td>221.174667</td>\n",
       "      <td>221.764282</td>\n",
       "    </tr>\n",
       "    <tr>\n",
       "      <th>2017-03-17</th>\n",
       "      <td>237.970001</td>\n",
       "      <td>237.029999</td>\n",
       "      <td>237.750000</td>\n",
       "      <td>237.029999</td>\n",
       "      <td>89002100.0</td>\n",
       "      <td>220.786240</td>\n",
       "      <td>222.323166</td>\n",
       "    </tr>\n",
       "    <tr>\n",
       "      <th>...</th>\n",
       "      <td>...</td>\n",
       "      <td>...</td>\n",
       "      <td>...</td>\n",
       "      <td>...</td>\n",
       "      <td>...</td>\n",
       "      <td>...</td>\n",
       "      <td>...</td>\n",
       "    </tr>\n",
       "    <tr>\n",
       "      <th>2021-03-05</th>\n",
       "      <td>384.760010</td>\n",
       "      <td>372.640015</td>\n",
       "      <td>380.459991</td>\n",
       "      <td>383.630005</td>\n",
       "      <td>151959800.0</td>\n",
       "      <td>383.630005</td>\n",
       "      <td>NaN</td>\n",
       "    </tr>\n",
       "    <tr>\n",
       "      <th>2021-03-08</th>\n",
       "      <td>387.679993</td>\n",
       "      <td>381.420013</td>\n",
       "      <td>384.660004</td>\n",
       "      <td>381.720001</td>\n",
       "      <td>122957100.0</td>\n",
       "      <td>381.720001</td>\n",
       "      <td>NaN</td>\n",
       "    </tr>\n",
       "    <tr>\n",
       "      <th>2021-03-09</th>\n",
       "      <td>389.910004</td>\n",
       "      <td>385.309998</td>\n",
       "      <td>385.850006</td>\n",
       "      <td>387.170013</td>\n",
       "      <td>113457800.0</td>\n",
       "      <td>387.170013</td>\n",
       "      <td>NaN</td>\n",
       "    </tr>\n",
       "    <tr>\n",
       "      <th>2021-03-10</th>\n",
       "      <td>391.399994</td>\n",
       "      <td>388.170013</td>\n",
       "      <td>389.690002</td>\n",
       "      <td>389.579987</td>\n",
       "      <td>109660800.0</td>\n",
       "      <td>389.579987</td>\n",
       "      <td>NaN</td>\n",
       "    </tr>\n",
       "    <tr>\n",
       "      <th>2021-03-11</th>\n",
       "      <td>395.649994</td>\n",
       "      <td>391.739990</td>\n",
       "      <td>392.230011</td>\n",
       "      <td>393.529999</td>\n",
       "      <td>86246140.0</td>\n",
       "      <td>393.529999</td>\n",
       "      <td>NaN</td>\n",
       "    </tr>\n",
       "  </tbody>\n",
       "</table>\n",
       "<p>1007 rows × 7 columns</p>\n",
       "</div>"
      ],
      "text/plain": [
       "                  High         Low        Open       Close       Volume  \\\n",
       "Date                                                                      \n",
       "2017-03-13  237.860001  237.240005  237.619995  237.809998   57256800.0   \n",
       "2017-03-14  237.240005  236.190002  237.179993  236.899994   59880800.0   \n",
       "2017-03-15  239.440002  237.289993  237.559998  238.949997   96081800.0   \n",
       "2017-03-16  239.199997  238.100006  239.110001  238.479996   78344000.0   \n",
       "2017-03-17  237.970001  237.029999  237.750000  237.029999   89002100.0   \n",
       "...                ...         ...         ...         ...          ...   \n",
       "2021-03-05  384.760010  372.640015  380.459991  383.630005  151959800.0   \n",
       "2021-03-08  387.679993  381.420013  384.660004  381.720001  122957100.0   \n",
       "2021-03-09  389.910004  385.309998  385.850006  387.170013  113457800.0   \n",
       "2021-03-10  391.399994  388.170013  389.690002  389.579987  109660800.0   \n",
       "2021-03-11  395.649994  391.739990  392.230011  393.529999   86246140.0   \n",
       "\n",
       "             Adj Close      Future  \n",
       "Date                                \n",
       "2017-03-13  220.553299  222.202072  \n",
       "2017-03-14  219.709335  222.062378  \n",
       "2017-03-15  221.610596  222.248642  \n",
       "2017-03-16  221.174667  221.764282  \n",
       "2017-03-17  220.786240  222.323166  \n",
       "...                ...         ...  \n",
       "2021-03-05  383.630005         NaN  \n",
       "2021-03-08  381.720001         NaN  \n",
       "2021-03-09  387.170013         NaN  \n",
       "2021-03-10  389.579987         NaN  \n",
       "2021-03-11  393.529999         NaN  \n",
       "\n",
       "[1007 rows x 7 columns]"
      ]
     },
     "execution_count": 6,
     "metadata": {},
     "output_type": "execute_result"
    }
   ],
   "source": [
    "# take a look at the dataframe now\n",
    "df"
   ]
  },
  {
   "cell_type": "code",
   "execution_count": 24,
   "id": "persistent-graphic",
   "metadata": {},
   "outputs": [],
   "source": [
    "# define features and labels\n",
    "X = df[['Adj Close']].iloc[:-future_days]\n",
    "y = df['Future'].iloc[:-future_days]"
   ]
  },
  {
   "cell_type": "code",
   "execution_count": 25,
   "id": "enormous-occupation",
   "metadata": {},
   "outputs": [],
   "source": [
    "# split data into train and test sets\n",
    "X_train = X.iloc[:-future_days]\n",
    "y_train = y.iloc[:-future_days]\n",
    "X_test = X.iloc[-future_days:]\n",
    "y_test = y.iloc[-future_days:]"
   ]
  },
  {
   "cell_type": "code",
   "execution_count": 26,
   "id": "figured-adolescent",
   "metadata": {},
   "outputs": [],
   "source": [
    "def plot_prediction(model, last_n_days = 180):\n",
    "    '''\n",
    "    Plots actual and predicted stock price using a given machine learning model. \n",
    "    Provides evaluation metrics as well.\n",
    "\n",
    "    Parameters:\n",
    "    model: machine learning model\n",
    "    last_n_days (int): last number of days to plot\n",
    "\n",
    "    Returns:\n",
    "    None\n",
    "    '''\n",
    "\n",
    "    model.fit(X_train, y_train)  # train model\n",
    "    y_pred = model.predict(X_test)  # make predictions on test dataset\n",
    "    # store the adjusted close results in a dataframe\n",
    "    results = pd.DataFrame(\n",
    "        {'Actual': df['Adj Close'].iloc[-future_days:], 'Predicted': y_pred})\n",
    "\n",
    "    # print evaluation metrics\n",
    "    print('Mean Absolute Error:', metrics.mean_absolute_error(y_test, y_pred))\n",
    "    print('Mean Squared Error:', metrics.mean_squared_error(y_test, y_pred))\n",
    "    print('Root Mean Squared Error:', np.sqrt(\n",
    "        metrics.mean_squared_error(y_test, y_pred)))\n",
    "    print('R2 Score:', metrics.r2_score(y_test, y_pred))\n",
    "\n",
    "    # plot data\n",
    "    df['Adj Close'].iloc[-last_n_days:].plot(label='Actual')\n",
    "    results['Predicted'].plot(label='Predicted')\n",
    "    plt.legend()\n",
    "    plt.xlabel('Date')\n",
    "    plt.ylabel('Adj Close [USD]')\n",
    "    plt.title('SPY')"
   ]
  },
  {
   "cell_type": "markdown",
   "id": "monetary-brain",
   "metadata": {},
   "source": [
    "### Use decision tree"
   ]
  },
  {
   "cell_type": "code",
   "execution_count": 27,
   "id": "catholic-breast",
   "metadata": {},
   "outputs": [
    {
     "name": "stdout",
     "output_type": "stream",
     "text": [
      "Mean Absolute Error: 5.46733194986979\n",
      "Mean Squared Error: 41.6824568621193\n",
      "Root Mean Squared Error: 6.456195231103169\n",
      "R2 Score: -0.254363744867123\n"
     ]
    },
    {
     "data": {
      "image/png": "[encoded data removed]",
      "text/plain": [
       "<Figure size 432x288 with 1 Axes>"
      ]
     },
     "metadata": {},
     "output_type": "display_data"
    }
   ],
   "source": [
    "plot_prediction(DecisionTreeRegressor())"
   ]
  },
  {
   "cell_type": "markdown",
   "id": "substantial-subject",
   "metadata": {},
   "source": [
    "### Use linear regression"
   ]
  },
  {
   "cell_type": "code",
   "execution_count": 28,
   "id": "narrative-rider",
   "metadata": {},
   "outputs": [
    {
     "name": "stdout",
     "output_type": "stream",
     "text": [
      "Mean Absolute Error: 11.713012887990287\n",
      "Mean Squared Error: 189.82186145989184\n",
      "Root Mean Squared Error: 13.777585472784839\n",
      "R2 Score: -4.712371077024175\n"
     ]
    },
    {
     "data": {
      "image/png": "[encoded data removed]",
      "text/plain": [
       "<Figure size 432x288 with 1 Axes>"
      ]
     },
     "metadata": {},
     "output_type": "display_data"
    }
   ],
   "source": [
    "plot_prediction(LinearRegression())"
   ]
  },
  {
   "cell_type": "markdown",
   "id": "hindu-vatican",
   "metadata": {},
   "source": [
    "### Use KNN"
   ]
  },
  {
   "cell_type": "code",
   "execution_count": 29,
   "id": "sharp-pioneer",
   "metadata": {},
   "outputs": [
    {
     "name": "stdout",
     "output_type": "stream",
     "text": [
      "Mean Absolute Error: 5.803928222656257\n",
      "Mean Squared Error: 46.76133914871778\n",
      "Root Mean Squared Error: 6.8382263159914345\n",
      "R2 Score: -0.4072042030443057\n"
     ]
    },
    {
     "data": {
      "image/png": "[encoded data removed]",
      "text/plain": [
       "<Figure size 432x288 with 1 Axes>"
      ]
     },
     "metadata": {},
     "output_type": "display_data"
    }
   ],
   "source": [
    "plot_prediction(KNeighborsRegressor())"
   ]
  }
 ],
 "metadata": {
  "kernelspec": {
   "display_name": "Python 3",
   "language": "python",
   "name": "python3"
  },
  "language_info": {
   "codemirror_mode": {
    "name": "ipython",
    "version": 3
   },
   "file_extension": ".py",
   "mimetype": "text/x-python",
   "name": "python",
   "nbconvert_exporter": "python",
   "pygments_lexer": "ipython3",
   "version": "3.7.9"
  }
 },
 "nbformat": 4,
 "nbformat_minor": 5
}
