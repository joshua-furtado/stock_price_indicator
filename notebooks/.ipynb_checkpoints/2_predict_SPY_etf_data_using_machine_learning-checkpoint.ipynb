{
 "cells": [
  {
   "cell_type": "code",
   "execution_count": 12,
   "id": "direct-blogger",
   "metadata": {},
   "outputs": [],
   "source": [
    "import pandas_datareader as web\n",
    "from datetime import date\n",
    "from dateutil.relativedelta import relativedelta\n",
    "import pandas as pd\n",
    "import numpy as np\n",
    "import matplotlib.pyplot as plt\n",
    "import seaborn as sns\n",
    "from sklearn import metrics\n",
    "from sklearn.tree import DecisionTreeRegressor\n",
    "from sklearn.linear_model import LinearRegression\n",
    "from sklearn.neighbors import KNeighborsRegressor\n",
    "%matplotlib inline"
   ]
  },
  {
   "cell_type": "code",
   "execution_count": 2,
   "id": "injured-nancy",
   "metadata": {},
   "outputs": [],
   "source": [
    "def get_dates(data_window):\n",
    "    '''\n",
    "    Returns the start date and end date for given number of years\n",
    "\n",
    "    Parameters:\n",
    "    data_window (int): number of years of past data\n",
    "\n",
    "    Returns:\n",
    "    start_date (datetime): start date\n",
    "    end_date (datetime): today's date\n",
    "    '''\n",
    "    end_date = pd.to_datetime(date.today())\n",
    "    start_date = pd.to_datetime(\n",
    "        date.today() + relativedelta(years=-data_window))\n",
    "\n",
    "    return start_date, end_date"
   ]
  },
  {
   "cell_type": "code",
   "execution_count": 3,
   "id": "blocked-bernard",
   "metadata": {},
   "outputs": [
    {
     "data": {
      "text/html": [
       "<div>\n",
       "<style scoped>\n",
       "    .dataframe tbody tr th:only-of-type {\n",
       "        vertical-align: middle;\n",
       "    }\n",
       "\n",
       "    .dataframe tbody tr th {\n",
       "        vertical-align: top;\n",
       "    }\n",
       "\n",
       "    .dataframe thead th {\n",
       "        text-align: right;\n",
       "    }\n",
       "</style>\n",
       "<table border=\"1\" class=\"dataframe\">\n",
       "  <thead>\n",
       "    <tr style=\"text-align: right;\">\n",
       "      <th></th>\n",
       "      <th>High</th>\n",
       "      <th>Low</th>\n",
       "      <th>Open</th>\n",
       "      <th>Close</th>\n",
       "      <th>Volume</th>\n",
       "      <th>Adj Close</th>\n",
       "    </tr>\n",
       "    <tr>\n",
       "      <th>Date</th>\n",
       "      <th></th>\n",
       "      <th></th>\n",
       "      <th></th>\n",
       "      <th></th>\n",
       "      <th></th>\n",
       "      <th></th>\n",
       "    </tr>\n",
       "  </thead>\n",
       "  <tbody>\n",
       "    <tr>\n",
       "      <th>2020-03-12</th>\n",
       "      <td>266.660004</td>\n",
       "      <td>247.679993</td>\n",
       "      <td>256.000000</td>\n",
       "      <td>248.110001</td>\n",
       "      <td>392220700.0</td>\n",
       "      <td>243.561539</td>\n",
       "    </tr>\n",
       "    <tr>\n",
       "      <th>2020-03-13</th>\n",
       "      <td>271.480011</td>\n",
       "      <td>248.520004</td>\n",
       "      <td>263.089996</td>\n",
       "      <td>269.320007</td>\n",
       "      <td>329566100.0</td>\n",
       "      <td>264.382690</td>\n",
       "    </tr>\n",
       "    <tr>\n",
       "      <th>2020-03-16</th>\n",
       "      <td>256.899994</td>\n",
       "      <td>237.360001</td>\n",
       "      <td>241.179993</td>\n",
       "      <td>239.850006</td>\n",
       "      <td>297240000.0</td>\n",
       "      <td>235.452972</td>\n",
       "    </tr>\n",
       "    <tr>\n",
       "      <th>2020-03-17</th>\n",
       "      <td>256.170013</td>\n",
       "      <td>237.070007</td>\n",
       "      <td>245.039993</td>\n",
       "      <td>252.800003</td>\n",
       "      <td>262070500.0</td>\n",
       "      <td>248.165558</td>\n",
       "    </tr>\n",
       "    <tr>\n",
       "      <th>2020-03-18</th>\n",
       "      <td>248.369995</td>\n",
       "      <td>228.020004</td>\n",
       "      <td>236.250000</td>\n",
       "      <td>240.000000</td>\n",
       "      <td>327597100.0</td>\n",
       "      <td>235.600204</td>\n",
       "    </tr>\n",
       "    <tr>\n",
       "      <th>...</th>\n",
       "      <td>...</td>\n",
       "      <td>...</td>\n",
       "      <td>...</td>\n",
       "      <td>...</td>\n",
       "      <td>...</td>\n",
       "      <td>...</td>\n",
       "    </tr>\n",
       "    <tr>\n",
       "      <th>2021-03-08</th>\n",
       "      <td>387.679993</td>\n",
       "      <td>381.420013</td>\n",
       "      <td>384.660004</td>\n",
       "      <td>381.720001</td>\n",
       "      <td>122957100.0</td>\n",
       "      <td>381.720001</td>\n",
       "    </tr>\n",
       "    <tr>\n",
       "      <th>2021-03-09</th>\n",
       "      <td>389.910004</td>\n",
       "      <td>385.309998</td>\n",
       "      <td>385.850006</td>\n",
       "      <td>387.170013</td>\n",
       "      <td>113457800.0</td>\n",
       "      <td>387.170013</td>\n",
       "    </tr>\n",
       "    <tr>\n",
       "      <th>2021-03-10</th>\n",
       "      <td>391.399994</td>\n",
       "      <td>388.170013</td>\n",
       "      <td>389.690002</td>\n",
       "      <td>389.579987</td>\n",
       "      <td>109660800.0</td>\n",
       "      <td>389.579987</td>\n",
       "    </tr>\n",
       "    <tr>\n",
       "      <th>2021-03-11</th>\n",
       "      <td>395.649994</td>\n",
       "      <td>391.739990</td>\n",
       "      <td>392.230011</td>\n",
       "      <td>393.529999</td>\n",
       "      <td>86027400.0</td>\n",
       "      <td>393.529999</td>\n",
       "    </tr>\n",
       "    <tr>\n",
       "      <th>2021-03-12</th>\n",
       "      <td>394.209991</td>\n",
       "      <td>391.200012</td>\n",
       "      <td>392.070007</td>\n",
       "      <td>394.059998</td>\n",
       "      <td>64608100.0</td>\n",
       "      <td>394.059998</td>\n",
       "    </tr>\n",
       "  </tbody>\n",
       "</table>\n",
       "<p>253 rows × 6 columns</p>\n",
       "</div>"
      ],
      "text/plain": [
       "                  High         Low        Open       Close       Volume  \\\n",
       "Date                                                                      \n",
       "2020-03-12  266.660004  247.679993  256.000000  248.110001  392220700.0   \n",
       "2020-03-13  271.480011  248.520004  263.089996  269.320007  329566100.0   \n",
       "2020-03-16  256.899994  237.360001  241.179993  239.850006  297240000.0   \n",
       "2020-03-17  256.170013  237.070007  245.039993  252.800003  262070500.0   \n",
       "2020-03-18  248.369995  228.020004  236.250000  240.000000  327597100.0   \n",
       "...                ...         ...         ...         ...          ...   \n",
       "2021-03-08  387.679993  381.420013  384.660004  381.720001  122957100.0   \n",
       "2021-03-09  389.910004  385.309998  385.850006  387.170013  113457800.0   \n",
       "2021-03-10  391.399994  388.170013  389.690002  389.579987  109660800.0   \n",
       "2021-03-11  395.649994  391.739990  392.230011  393.529999   86027400.0   \n",
       "2021-03-12  394.209991  391.200012  392.070007  394.059998   64608100.0   \n",
       "\n",
       "             Adj Close  \n",
       "Date                    \n",
       "2020-03-12  243.561539  \n",
       "2020-03-13  264.382690  \n",
       "2020-03-16  235.452972  \n",
       "2020-03-17  248.165558  \n",
       "2020-03-18  235.600204  \n",
       "...                ...  \n",
       "2021-03-08  381.720001  \n",
       "2021-03-09  387.170013  \n",
       "2021-03-10  389.579987  \n",
       "2021-03-11  393.529999  \n",
       "2021-03-12  394.059998  \n",
       "\n",
       "[253 rows x 6 columns]"
      ]
     },
     "execution_count": 3,
     "metadata": {},
     "output_type": "execute_result"
    }
   ],
   "source": [
    "# take a look at SPY\n",
    "data_window = 1  # number of years of historical data to look at\n",
    "start_date, end_date = get_dates(data_window)\n",
    "stock = 'SPY'  # stock symbol\n",
    "\n",
    "df = web.DataReader(stock, data_source='yahoo',\n",
    "                    start=start_date, end=end_date)\n",
    "df"
   ]
  },
  {
   "cell_type": "code",
   "execution_count": 4,
   "id": "flexible-receiver",
   "metadata": {},
   "outputs": [
    {
     "data": {
      "text/plain": [
       "High         0\n",
       "Low          0\n",
       "Open         0\n",
       "Close        0\n",
       "Volume       0\n",
       "Adj Close    0\n",
       "dtype: int64"
      ]
     },
     "execution_count": 4,
     "metadata": {},
     "output_type": "execute_result"
    }
   ],
   "source": [
    "# check for null values\n",
    "df.isnull().sum()"
   ]
  },
  {
   "cell_type": "code",
   "execution_count": 5,
   "id": "understanding-omega",
   "metadata": {},
   "outputs": [
    {
     "data": {
      "text/plain": [
       "Text(0.5, 1.0, 'SPY')"
      ]
     },
     "execution_count": 5,
     "metadata": {},
     "output_type": "execute_result"
    },
    {
     "data": {
      "image/png": "[encoded data removed]",
      "text/plain": [
       "<Figure size 432x288 with 1 Axes>"
      ]
     },
     "metadata": {},
     "output_type": "display_data"
    }
   ],
   "source": [
    "# plot adjusted close\n",
    "sns.set_style('whitegrid')\n",
    "df['Adj Close'].plot()\n",
    "plt.xlabel('Date')\n",
    "plt.ylabel('Adj Close [USD]')\n",
    "plt.title('SPY')"
   ]
  },
  {
   "cell_type": "code",
   "execution_count": 6,
   "id": "plastic-recording",
   "metadata": {},
   "outputs": [],
   "source": [
    "future_days = 28  # number of days lookahead for future value\n",
    "# add target data as 30 day price prediction\n",
    "df['Future'] = df['Adj Close'].shift(-future_days)"
   ]
  },
  {
   "cell_type": "code",
   "execution_count": 7,
   "id": "derived-court",
   "metadata": {
    "scrolled": true
   },
   "outputs": [
    {
     "data": {
      "text/html": [
       "<div>\n",
       "<style scoped>\n",
       "    .dataframe tbody tr th:only-of-type {\n",
       "        vertical-align: middle;\n",
       "    }\n",
       "\n",
       "    .dataframe tbody tr th {\n",
       "        vertical-align: top;\n",
       "    }\n",
       "\n",
       "    .dataframe thead th {\n",
       "        text-align: right;\n",
       "    }\n",
       "</style>\n",
       "<table border=\"1\" class=\"dataframe\">\n",
       "  <thead>\n",
       "    <tr style=\"text-align: right;\">\n",
       "      <th></th>\n",
       "      <th>High</th>\n",
       "      <th>Low</th>\n",
       "      <th>Open</th>\n",
       "      <th>Close</th>\n",
       "      <th>Volume</th>\n",
       "      <th>Adj Close</th>\n",
       "      <th>Future</th>\n",
       "    </tr>\n",
       "    <tr>\n",
       "      <th>Date</th>\n",
       "      <th></th>\n",
       "      <th></th>\n",
       "      <th></th>\n",
       "      <th></th>\n",
       "      <th></th>\n",
       "      <th></th>\n",
       "      <th></th>\n",
       "    </tr>\n",
       "  </thead>\n",
       "  <tbody>\n",
       "    <tr>\n",
       "      <th>2020-03-12</th>\n",
       "      <td>266.660004</td>\n",
       "      <td>247.679993</td>\n",
       "      <td>256.000000</td>\n",
       "      <td>248.110001</td>\n",
       "      <td>392220700.0</td>\n",
       "      <td>243.561539</td>\n",
       "      <td>275.594513</td>\n",
       "    </tr>\n",
       "    <tr>\n",
       "      <th>2020-03-13</th>\n",
       "      <td>271.480011</td>\n",
       "      <td>248.520004</td>\n",
       "      <td>263.089996</td>\n",
       "      <td>269.320007</td>\n",
       "      <td>329566100.0</td>\n",
       "      <td>264.382690</td>\n",
       "      <td>275.574738</td>\n",
       "    </tr>\n",
       "    <tr>\n",
       "      <th>2020-03-16</th>\n",
       "      <td>256.899994</td>\n",
       "      <td>237.360001</td>\n",
       "      <td>241.179993</td>\n",
       "      <td>239.850006</td>\n",
       "      <td>297240000.0</td>\n",
       "      <td>235.452972</td>\n",
       "      <td>279.415924</td>\n",
       "    </tr>\n",
       "    <tr>\n",
       "      <th>2020-03-17</th>\n",
       "      <td>256.170013</td>\n",
       "      <td>237.070007</td>\n",
       "      <td>245.039993</td>\n",
       "      <td>252.800003</td>\n",
       "      <td>262070500.0</td>\n",
       "      <td>248.165558</td>\n",
       "      <td>283.444672</td>\n",
       "    </tr>\n",
       "    <tr>\n",
       "      <th>2020-03-18</th>\n",
       "      <td>248.369995</td>\n",
       "      <td>228.020004</td>\n",
       "      <td>236.250000</td>\n",
       "      <td>240.000000</td>\n",
       "      <td>327597100.0</td>\n",
       "      <td>235.600204</td>\n",
       "      <td>282.141235</td>\n",
       "    </tr>\n",
       "    <tr>\n",
       "      <th>...</th>\n",
       "      <td>...</td>\n",
       "      <td>...</td>\n",
       "      <td>...</td>\n",
       "      <td>...</td>\n",
       "      <td>...</td>\n",
       "      <td>...</td>\n",
       "      <td>...</td>\n",
       "    </tr>\n",
       "    <tr>\n",
       "      <th>2021-03-08</th>\n",
       "      <td>387.679993</td>\n",
       "      <td>381.420013</td>\n",
       "      <td>384.660004</td>\n",
       "      <td>381.720001</td>\n",
       "      <td>122957100.0</td>\n",
       "      <td>381.720001</td>\n",
       "      <td>NaN</td>\n",
       "    </tr>\n",
       "    <tr>\n",
       "      <th>2021-03-09</th>\n",
       "      <td>389.910004</td>\n",
       "      <td>385.309998</td>\n",
       "      <td>385.850006</td>\n",
       "      <td>387.170013</td>\n",
       "      <td>113457800.0</td>\n",
       "      <td>387.170013</td>\n",
       "      <td>NaN</td>\n",
       "    </tr>\n",
       "    <tr>\n",
       "      <th>2021-03-10</th>\n",
       "      <td>391.399994</td>\n",
       "      <td>388.170013</td>\n",
       "      <td>389.690002</td>\n",
       "      <td>389.579987</td>\n",
       "      <td>109660800.0</td>\n",
       "      <td>389.579987</td>\n",
       "      <td>NaN</td>\n",
       "    </tr>\n",
       "    <tr>\n",
       "      <th>2021-03-11</th>\n",
       "      <td>395.649994</td>\n",
       "      <td>391.739990</td>\n",
       "      <td>392.230011</td>\n",
       "      <td>393.529999</td>\n",
       "      <td>86027400.0</td>\n",
       "      <td>393.529999</td>\n",
       "      <td>NaN</td>\n",
       "    </tr>\n",
       "    <tr>\n",
       "      <th>2021-03-12</th>\n",
       "      <td>394.209991</td>\n",
       "      <td>391.200012</td>\n",
       "      <td>392.070007</td>\n",
       "      <td>394.059998</td>\n",
       "      <td>64608100.0</td>\n",
       "      <td>394.059998</td>\n",
       "      <td>NaN</td>\n",
       "    </tr>\n",
       "  </tbody>\n",
       "</table>\n",
       "<p>253 rows × 7 columns</p>\n",
       "</div>"
      ],
      "text/plain": [
       "                  High         Low        Open       Close       Volume  \\\n",
       "Date                                                                      \n",
       "2020-03-12  266.660004  247.679993  256.000000  248.110001  392220700.0   \n",
       "2020-03-13  271.480011  248.520004  263.089996  269.320007  329566100.0   \n",
       "2020-03-16  256.899994  237.360001  241.179993  239.850006  297240000.0   \n",
       "2020-03-17  256.170013  237.070007  245.039993  252.800003  262070500.0   \n",
       "2020-03-18  248.369995  228.020004  236.250000  240.000000  327597100.0   \n",
       "...                ...         ...         ...         ...          ...   \n",
       "2021-03-08  387.679993  381.420013  384.660004  381.720001  122957100.0   \n",
       "2021-03-09  389.910004  385.309998  385.850006  387.170013  113457800.0   \n",
       "2021-03-10  391.399994  388.170013  389.690002  389.579987  109660800.0   \n",
       "2021-03-11  395.649994  391.739990  392.230011  393.529999   86027400.0   \n",
       "2021-03-12  394.209991  391.200012  392.070007  394.059998   64608100.0   \n",
       "\n",
       "             Adj Close      Future  \n",
       "Date                                \n",
       "2020-03-12  243.561539  275.594513  \n",
       "2020-03-13  264.382690  275.574738  \n",
       "2020-03-16  235.452972  279.415924  \n",
       "2020-03-17  248.165558  283.444672  \n",
       "2020-03-18  235.600204  282.141235  \n",
       "...                ...         ...  \n",
       "2021-03-08  381.720001         NaN  \n",
       "2021-03-09  387.170013         NaN  \n",
       "2021-03-10  389.579987         NaN  \n",
       "2021-03-11  393.529999         NaN  \n",
       "2021-03-12  394.059998         NaN  \n",
       "\n",
       "[253 rows x 7 columns]"
      ]
     },
     "execution_count": 7,
     "metadata": {},
     "output_type": "execute_result"
    }
   ],
   "source": [
    "# take a look at the dataframe now\n",
    "df"
   ]
  },
  {
   "cell_type": "code",
   "execution_count": 8,
   "id": "informative-accused",
   "metadata": {},
   "outputs": [],
   "source": [
    "# define features and labels\n",
    "X = df[['Adj Close']].iloc[:-future_days]\n",
    "y = df['Future'].iloc[:-future_days]"
   ]
  },
  {
   "cell_type": "code",
   "execution_count": 9,
   "id": "educational-belly",
   "metadata": {},
   "outputs": [],
   "source": [
    "# split data into train and test sets\n",
    "X_train = X.iloc[:-future_days]\n",
    "y_train = y.iloc[:-future_days]\n",
    "X_test = X.iloc[-future_days:]\n",
    "y_test = y.iloc[-future_days:]"
   ]
  },
  {
   "cell_type": "code",
   "execution_count": 10,
   "id": "frank-berlin",
   "metadata": {},
   "outputs": [],
   "source": [
    "def plot_prediction(model, last_n_days=180):\n",
    "    '''\n",
    "    Plots actual and predicted stock price using a given machine learning model. \n",
    "    Provides evaluation metrics as well.\n",
    "\n",
    "    Parameters:\n",
    "    model: machine learning model\n",
    "    last_n_days (int): last number of days to plot\n",
    "\n",
    "    Returns:\n",
    "    None\n",
    "    '''\n",
    "\n",
    "    model.fit(X_train, y_train)  # train model\n",
    "    y_pred = model.predict(X_test)  # make predictions on test dataset\n",
    "    # store the adjusted close results in a dataframe\n",
    "    results = pd.DataFrame(\n",
    "        {'Actual': df['Adj Close'].iloc[-future_days:], 'Predicted': y_pred})\n",
    "\n",
    "    # print evaluation metrics\n",
    "    print('Mean Absolute Error:', metrics.mean_absolute_error(y_test, y_pred))\n",
    "    print('Mean Squared Error:', metrics.mean_squared_error(y_test, y_pred))\n",
    "    print('Root Mean Squared Error:', np.sqrt(\n",
    "        metrics.mean_squared_error(y_test, y_pred)))\n",
    "    print('R2 Score:', metrics.r2_score(y_test, y_pred))\n",
    "\n",
    "    # plot data\n",
    "    df['Adj Close'].iloc[-last_n_days:].plot(label='Actual')\n",
    "    results['Predicted'].plot(label='Predicted')\n",
    "    plt.legend()\n",
    "    plt.xlabel('Date')\n",
    "    plt.ylabel('Adj Close [USD]')\n",
    "    plt.title('SPY')"
   ]
  },
  {
   "cell_type": "markdown",
   "id": "promotional-neighbor",
   "metadata": {},
   "source": [
    "### Use decision tree"
   ]
  },
  {
   "cell_type": "code",
   "execution_count": 13,
   "id": "interested-mistake",
   "metadata": {},
   "outputs": [
    {
     "name": "stdout",
     "output_type": "stream",
     "text": [
      "Mean Absolute Error: 16.05499267578125\n",
      "Mean Squared Error: 290.0482102130939\n",
      "Root Mean Squared Error: 17.03080180769813\n",
      "R2 Score: -13.00136013181167\n"
     ]
    },
    {
     "data": {
      "image/png": "[encoded data removed]",
      "text/plain": [
       "<Figure size 432x288 with 1 Axes>"
      ]
     },
     "metadata": {
      "needs_background": "light"
     },
     "output_type": "display_data"
    }
   ],
   "source": [
    "plot_prediction(DecisionTreeRegressor())"
   ]
  },
  {
   "cell_type": "markdown",
   "id": "understanding-fireplace",
   "metadata": {},
   "source": [
    "### Use linear regression"
   ]
  },
  {
   "cell_type": "code",
   "execution_count": 14,
   "id": "taken-endorsement",
   "metadata": {},
   "outputs": [
    {
     "name": "stdout",
     "output_type": "stream",
     "text": [
      "Mean Absolute Error: 9.100415867455638\n",
      "Mean Squared Error: 108.09473185661044\n",
      "Root Mean Squared Error: 10.39686163496516\n",
      "R2 Score: -4.218005889310929\n"
     ]
    },
    {
     "data": {
      "image/png": "[encoded data removed]",
      "text/plain": [
       "<Figure size 432x288 with 1 Axes>"
      ]
     },
     "metadata": {
      "needs_background": "light"
     },
     "output_type": "display_data"
    }
   ],
   "source": [
    "plot_prediction(LinearRegression())"
   ]
  },
  {
   "cell_type": "markdown",
   "id": "ready-white",
   "metadata": {},
   "source": [
    "### Use KNN"
   ]
  },
  {
   "cell_type": "code",
   "execution_count": 15,
   "id": "textile-committee",
   "metadata": {},
   "outputs": [
    {
     "name": "stdout",
     "output_type": "stream",
     "text": [
      "Mean Absolute Error: 10.584060886928016\n",
      "Mean Squared Error: 133.8517057299761\n",
      "Root Mean Squared Error: 11.569429792776138\n",
      "R2 Score: -5.461360112533701\n"
     ]
    },
    {
     "data": {
      "image/png": "[encoded data removed]",
      "text/plain": [
       "<Figure size 432x288 with 1 Axes>"
      ]
     },
     "metadata": {
      "needs_background": "light"
     },
     "output_type": "display_data"
    }
   ],
   "source": [
    "plot_prediction(KNeighborsRegressor())"
   ]
  }
 ],
 "metadata": {
  "kernelspec": {
   "display_name": "Python 3",
   "language": "python",
   "name": "python3"
  },
  "language_info": {
   "codemirror_mode": {
    "name": "ipython",
    "version": 3
   },
   "file_extension": ".py",
   "mimetype": "text/x-python",
   "name": "python",
   "nbconvert_exporter": "python",
   "pygments_lexer": "ipython3",
   "version": "3.7.9"
  }
 },
 "nbformat": 4,
 "nbformat_minor": 5
}
