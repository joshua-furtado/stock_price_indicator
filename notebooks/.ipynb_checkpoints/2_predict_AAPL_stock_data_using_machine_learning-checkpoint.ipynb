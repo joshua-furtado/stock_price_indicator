{
 "cells": [
  {
   "cell_type": "code",
   "execution_count": 1,
   "id": "characteristic-westminster",
   "metadata": {},
   "outputs": [],
   "source": [
    "import pandas_datareader as web\n",
    "from datetime import date\n",
    "from dateutil.relativedelta import relativedelta\n",
    "import pandas as pd\n",
    "import numpy as np\n",
    "import matplotlib.pyplot as plt\n",
    "import seaborn as sns\n",
    "from sklearn import metrics\n",
    "from sklearn.tree import DecisionTreeRegressor\n",
    "from sklearn.linear_model import LinearRegression\n",
    "from sklearn.neighbors import KNeighborsRegressor\n",
    "from sklearn.svm import SVR\n",
    "%matplotlib inline"
   ]
  },
  {
   "cell_type": "code",
   "execution_count": 2,
   "id": "alternative-think",
   "metadata": {},
   "outputs": [
    {
     "data": {
      "text/html": [
       "<div>\n",
       "<style scoped>\n",
       "    .dataframe tbody tr th:only-of-type {\n",
       "        vertical-align: middle;\n",
       "    }\n",
       "\n",
       "    .dataframe tbody tr th {\n",
       "        vertical-align: top;\n",
       "    }\n",
       "\n",
       "    .dataframe thead th {\n",
       "        text-align: right;\n",
       "    }\n",
       "</style>\n",
       "<table border=\"1\" class=\"dataframe\">\n",
       "  <thead>\n",
       "    <tr style=\"text-align: right;\">\n",
       "      <th></th>\n",
       "      <th>High</th>\n",
       "      <th>Low</th>\n",
       "      <th>Open</th>\n",
       "      <th>Close</th>\n",
       "      <th>Volume</th>\n",
       "      <th>Adj Close</th>\n",
       "    </tr>\n",
       "    <tr>\n",
       "      <th>Date</th>\n",
       "      <th></th>\n",
       "      <th></th>\n",
       "      <th></th>\n",
       "      <th></th>\n",
       "      <th></th>\n",
       "      <th></th>\n",
       "    </tr>\n",
       "  </thead>\n",
       "  <tbody>\n",
       "    <tr>\n",
       "      <th>2017-03-13</th>\n",
       "      <td>34.857498</td>\n",
       "      <td>34.705002</td>\n",
       "      <td>34.712502</td>\n",
       "      <td>34.799999</td>\n",
       "      <td>69686800.0</td>\n",
       "      <td>33.052044</td>\n",
       "    </tr>\n",
       "    <tr>\n",
       "      <th>2017-03-14</th>\n",
       "      <td>34.912498</td>\n",
       "      <td>34.709999</td>\n",
       "      <td>34.825001</td>\n",
       "      <td>34.747501</td>\n",
       "      <td>61236400.0</td>\n",
       "      <td>33.002182</td>\n",
       "    </tr>\n",
       "    <tr>\n",
       "      <th>2017-03-15</th>\n",
       "      <td>35.187500</td>\n",
       "      <td>34.757500</td>\n",
       "      <td>34.852501</td>\n",
       "      <td>35.115002</td>\n",
       "      <td>102767200.0</td>\n",
       "      <td>33.351227</td>\n",
       "    </tr>\n",
       "    <tr>\n",
       "      <th>2017-03-16</th>\n",
       "      <td>35.255001</td>\n",
       "      <td>35.064999</td>\n",
       "      <td>35.180000</td>\n",
       "      <td>35.172501</td>\n",
       "      <td>76928000.0</td>\n",
       "      <td>33.405842</td>\n",
       "    </tr>\n",
       "    <tr>\n",
       "      <th>2017-03-17</th>\n",
       "      <td>35.250000</td>\n",
       "      <td>34.972500</td>\n",
       "      <td>35.250000</td>\n",
       "      <td>34.997501</td>\n",
       "      <td>175540000.0</td>\n",
       "      <td>33.239635</td>\n",
       "    </tr>\n",
       "    <tr>\n",
       "      <th>...</th>\n",
       "      <td>...</td>\n",
       "      <td>...</td>\n",
       "      <td>...</td>\n",
       "      <td>...</td>\n",
       "      <td>...</td>\n",
       "      <td>...</td>\n",
       "    </tr>\n",
       "    <tr>\n",
       "      <th>2021-03-05</th>\n",
       "      <td>121.940002</td>\n",
       "      <td>117.570000</td>\n",
       "      <td>120.980003</td>\n",
       "      <td>121.419998</td>\n",
       "      <td>153590400.0</td>\n",
       "      <td>121.419998</td>\n",
       "    </tr>\n",
       "    <tr>\n",
       "      <th>2021-03-08</th>\n",
       "      <td>121.000000</td>\n",
       "      <td>116.209999</td>\n",
       "      <td>120.930000</td>\n",
       "      <td>116.360001</td>\n",
       "      <td>153918600.0</td>\n",
       "      <td>116.360001</td>\n",
       "    </tr>\n",
       "    <tr>\n",
       "      <th>2021-03-09</th>\n",
       "      <td>122.059998</td>\n",
       "      <td>118.790001</td>\n",
       "      <td>119.029999</td>\n",
       "      <td>121.089996</td>\n",
       "      <td>129159600.0</td>\n",
       "      <td>121.089996</td>\n",
       "    </tr>\n",
       "    <tr>\n",
       "      <th>2021-03-10</th>\n",
       "      <td>122.169998</td>\n",
       "      <td>119.449997</td>\n",
       "      <td>121.690002</td>\n",
       "      <td>119.980003</td>\n",
       "      <td>111760400.0</td>\n",
       "      <td>119.980003</td>\n",
       "    </tr>\n",
       "    <tr>\n",
       "      <th>2021-03-11</th>\n",
       "      <td>123.209999</td>\n",
       "      <td>121.260002</td>\n",
       "      <td>122.540001</td>\n",
       "      <td>121.970001</td>\n",
       "      <td>80328093.0</td>\n",
       "      <td>121.970001</td>\n",
       "    </tr>\n",
       "  </tbody>\n",
       "</table>\n",
       "<p>1007 rows × 6 columns</p>\n",
       "</div>"
      ],
      "text/plain": [
       "                  High         Low        Open       Close       Volume  \\\n",
       "Date                                                                      \n",
       "2017-03-13   34.857498   34.705002   34.712502   34.799999   69686800.0   \n",
       "2017-03-14   34.912498   34.709999   34.825001   34.747501   61236400.0   \n",
       "2017-03-15   35.187500   34.757500   34.852501   35.115002  102767200.0   \n",
       "2017-03-16   35.255001   35.064999   35.180000   35.172501   76928000.0   \n",
       "2017-03-17   35.250000   34.972500   35.250000   34.997501  175540000.0   \n",
       "...                ...         ...         ...         ...          ...   \n",
       "2021-03-05  121.940002  117.570000  120.980003  121.419998  153590400.0   \n",
       "2021-03-08  121.000000  116.209999  120.930000  116.360001  153918600.0   \n",
       "2021-03-09  122.059998  118.790001  119.029999  121.089996  129159600.0   \n",
       "2021-03-10  122.169998  119.449997  121.690002  119.980003  111760400.0   \n",
       "2021-03-11  123.209999  121.260002  122.540001  121.970001   80328093.0   \n",
       "\n",
       "             Adj Close  \n",
       "Date                    \n",
       "2017-03-13   33.052044  \n",
       "2017-03-14   33.002182  \n",
       "2017-03-15   33.351227  \n",
       "2017-03-16   33.405842  \n",
       "2017-03-17   33.239635  \n",
       "...                ...  \n",
       "2021-03-05  121.419998  \n",
       "2021-03-08  116.360001  \n",
       "2021-03-09  121.089996  \n",
       "2021-03-10  119.980003  \n",
       "2021-03-11  121.970001  \n",
       "\n",
       "[1007 rows x 6 columns]"
      ]
     },
     "execution_count": 2,
     "metadata": {},
     "output_type": "execute_result"
    }
   ],
   "source": [
    "# take a look at AAPL\n",
    "df = pd.read_csv('../data/AAPL.csv', index_col='Date', parse_dates=True)\n",
    "df"
   ]
  },
  {
   "cell_type": "code",
   "execution_count": 3,
   "id": "alternative-tracker",
   "metadata": {},
   "outputs": [
    {
     "data": {
      "text/plain": [
       "High         0\n",
       "Low          0\n",
       "Open         0\n",
       "Close        0\n",
       "Volume       0\n",
       "Adj Close    0\n",
       "dtype: int64"
      ]
     },
     "execution_count": 3,
     "metadata": {},
     "output_type": "execute_result"
    }
   ],
   "source": [
    "# check for null values\n",
    "df.isnull().sum()"
   ]
  },
  {
   "cell_type": "code",
   "execution_count": 5,
   "id": "bulgarian-integration",
   "metadata": {},
   "outputs": [
    {
     "data": {
      "text/plain": [
       "Text(0.5, 1.0, 'AAPL')"
      ]
     },
     "execution_count": 5,
     "metadata": {},
     "output_type": "execute_result"
    },
    {
     "data": {
      "image/png": "[encoded data removed]",
      "text/plain": [
       "<Figure size 432x288 with 1 Axes>"
      ]
     },
     "metadata": {},
     "output_type": "display_data"
    }
   ],
   "source": [
    "# plot adjusted close\n",
    "sns.set_style('whitegrid')\n",
    "df['Adj Close'].plot()\n",
    "plt.xlabel('Date')\n",
    "plt.ylabel('Adj Close [USD]')\n",
    "plt.title('AAPL')"
   ]
  },
  {
   "cell_type": "code",
   "execution_count": 6,
   "id": "framed-qatar",
   "metadata": {},
   "outputs": [],
   "source": [
    "future_days = 30  # number of days lookahead for future value\n",
    "# add target data as 30 day price prediction\n",
    "df['Future'] = df['Adj Close'].shift(-future_days)"
   ]
  },
  {
   "cell_type": "code",
   "execution_count": 7,
   "id": "billion-consent",
   "metadata": {
    "scrolled": true
   },
   "outputs": [
    {
     "data": {
      "text/html": [
       "<div>\n",
       "<style scoped>\n",
       "    .dataframe tbody tr th:only-of-type {\n",
       "        vertical-align: middle;\n",
       "    }\n",
       "\n",
       "    .dataframe tbody tr th {\n",
       "        vertical-align: top;\n",
       "    }\n",
       "\n",
       "    .dataframe thead th {\n",
       "        text-align: right;\n",
       "    }\n",
       "</style>\n",
       "<table border=\"1\" class=\"dataframe\">\n",
       "  <thead>\n",
       "    <tr style=\"text-align: right;\">\n",
       "      <th></th>\n",
       "      <th>High</th>\n",
       "      <th>Low</th>\n",
       "      <th>Open</th>\n",
       "      <th>Close</th>\n",
       "      <th>Volume</th>\n",
       "      <th>Adj Close</th>\n",
       "      <th>Future</th>\n",
       "    </tr>\n",
       "    <tr>\n",
       "      <th>Date</th>\n",
       "      <th></th>\n",
       "      <th></th>\n",
       "      <th></th>\n",
       "      <th></th>\n",
       "      <th></th>\n",
       "      <th></th>\n",
       "      <th></th>\n",
       "    </tr>\n",
       "  </thead>\n",
       "  <tbody>\n",
       "    <tr>\n",
       "      <th>2017-03-13</th>\n",
       "      <td>34.857498</td>\n",
       "      <td>34.705002</td>\n",
       "      <td>34.712502</td>\n",
       "      <td>34.799999</td>\n",
       "      <td>69686800.0</td>\n",
       "      <td>33.052044</td>\n",
       "      <td>34.317619</td>\n",
       "    </tr>\n",
       "    <tr>\n",
       "      <th>2017-03-14</th>\n",
       "      <td>34.912498</td>\n",
       "      <td>34.709999</td>\n",
       "      <td>34.825001</td>\n",
       "      <td>34.747501</td>\n",
       "      <td>61236400.0</td>\n",
       "      <td>33.002182</td>\n",
       "      <td>34.115788</td>\n",
       "    </tr>\n",
       "    <tr>\n",
       "      <th>2017-03-15</th>\n",
       "      <td>35.187500</td>\n",
       "      <td>34.757500</td>\n",
       "      <td>34.852501</td>\n",
       "      <td>35.115002</td>\n",
       "      <td>102767200.0</td>\n",
       "      <td>33.351227</td>\n",
       "      <td>34.141903</td>\n",
       "    </tr>\n",
       "    <tr>\n",
       "      <th>2017-03-16</th>\n",
       "      <td>35.255001</td>\n",
       "      <td>35.064999</td>\n",
       "      <td>35.180000</td>\n",
       "      <td>35.172501</td>\n",
       "      <td>76928000.0</td>\n",
       "      <td>33.405842</td>\n",
       "      <td>34.108673</td>\n",
       "    </tr>\n",
       "    <tr>\n",
       "      <th>2017-03-17</th>\n",
       "      <td>35.250000</td>\n",
       "      <td>34.972500</td>\n",
       "      <td>35.250000</td>\n",
       "      <td>34.997501</td>\n",
       "      <td>175540000.0</td>\n",
       "      <td>33.239635</td>\n",
       "      <td>34.804371</td>\n",
       "    </tr>\n",
       "    <tr>\n",
       "      <th>...</th>\n",
       "      <td>...</td>\n",
       "      <td>...</td>\n",
       "      <td>...</td>\n",
       "      <td>...</td>\n",
       "      <td>...</td>\n",
       "      <td>...</td>\n",
       "      <td>...</td>\n",
       "    </tr>\n",
       "    <tr>\n",
       "      <th>2021-03-05</th>\n",
       "      <td>121.940002</td>\n",
       "      <td>117.570000</td>\n",
       "      <td>120.980003</td>\n",
       "      <td>121.419998</td>\n",
       "      <td>153590400.0</td>\n",
       "      <td>121.419998</td>\n",
       "      <td>NaN</td>\n",
       "    </tr>\n",
       "    <tr>\n",
       "      <th>2021-03-08</th>\n",
       "      <td>121.000000</td>\n",
       "      <td>116.209999</td>\n",
       "      <td>120.930000</td>\n",
       "      <td>116.360001</td>\n",
       "      <td>153918600.0</td>\n",
       "      <td>116.360001</td>\n",
       "      <td>NaN</td>\n",
       "    </tr>\n",
       "    <tr>\n",
       "      <th>2021-03-09</th>\n",
       "      <td>122.059998</td>\n",
       "      <td>118.790001</td>\n",
       "      <td>119.029999</td>\n",
       "      <td>121.089996</td>\n",
       "      <td>129159600.0</td>\n",
       "      <td>121.089996</td>\n",
       "      <td>NaN</td>\n",
       "    </tr>\n",
       "    <tr>\n",
       "      <th>2021-03-10</th>\n",
       "      <td>122.169998</td>\n",
       "      <td>119.449997</td>\n",
       "      <td>121.690002</td>\n",
       "      <td>119.980003</td>\n",
       "      <td>111760400.0</td>\n",
       "      <td>119.980003</td>\n",
       "      <td>NaN</td>\n",
       "    </tr>\n",
       "    <tr>\n",
       "      <th>2021-03-11</th>\n",
       "      <td>123.209999</td>\n",
       "      <td>121.260002</td>\n",
       "      <td>122.540001</td>\n",
       "      <td>121.970001</td>\n",
       "      <td>80328093.0</td>\n",
       "      <td>121.970001</td>\n",
       "      <td>NaN</td>\n",
       "    </tr>\n",
       "  </tbody>\n",
       "</table>\n",
       "<p>1007 rows × 7 columns</p>\n",
       "</div>"
      ],
      "text/plain": [
       "                  High         Low        Open       Close       Volume  \\\n",
       "Date                                                                      \n",
       "2017-03-13   34.857498   34.705002   34.712502   34.799999   69686800.0   \n",
       "2017-03-14   34.912498   34.709999   34.825001   34.747501   61236400.0   \n",
       "2017-03-15   35.187500   34.757500   34.852501   35.115002  102767200.0   \n",
       "2017-03-16   35.255001   35.064999   35.180000   35.172501   76928000.0   \n",
       "2017-03-17   35.250000   34.972500   35.250000   34.997501  175540000.0   \n",
       "...                ...         ...         ...         ...          ...   \n",
       "2021-03-05  121.940002  117.570000  120.980003  121.419998  153590400.0   \n",
       "2021-03-08  121.000000  116.209999  120.930000  116.360001  153918600.0   \n",
       "2021-03-09  122.059998  118.790001  119.029999  121.089996  129159600.0   \n",
       "2021-03-10  122.169998  119.449997  121.690002  119.980003  111760400.0   \n",
       "2021-03-11  123.209999  121.260002  122.540001  121.970001   80328093.0   \n",
       "\n",
       "             Adj Close     Future  \n",
       "Date                               \n",
       "2017-03-13   33.052044  34.317619  \n",
       "2017-03-14   33.002182  34.115788  \n",
       "2017-03-15   33.351227  34.141903  \n",
       "2017-03-16   33.405842  34.108673  \n",
       "2017-03-17   33.239635  34.804371  \n",
       "...                ...        ...  \n",
       "2021-03-05  121.419998        NaN  \n",
       "2021-03-08  116.360001        NaN  \n",
       "2021-03-09  121.089996        NaN  \n",
       "2021-03-10  119.980003        NaN  \n",
       "2021-03-11  121.970001        NaN  \n",
       "\n",
       "[1007 rows x 7 columns]"
      ]
     },
     "execution_count": 7,
     "metadata": {},
     "output_type": "execute_result"
    }
   ],
   "source": [
    "# take a look at the dataframe now\n",
    "df"
   ]
  },
  {
   "cell_type": "code",
   "execution_count": 8,
   "id": "precious-treaty",
   "metadata": {},
   "outputs": [],
   "source": [
    "# define features and labels\n",
    "X = df[['Adj Close']].iloc[:-future_days]\n",
    "y = df['Future'].iloc[:-future_days]"
   ]
  },
  {
   "cell_type": "code",
   "execution_count": 9,
   "id": "nuclear-planner",
   "metadata": {},
   "outputs": [],
   "source": [
    "# split data into train and test sets\n",
    "X_train = X.iloc[:-future_days]\n",
    "y_train = y.iloc[:-future_days]\n",
    "X_test = X.iloc[-future_days:]\n",
    "y_test = y.iloc[-future_days:]"
   ]
  },
  {
   "cell_type": "code",
   "execution_count": null,
   "id": "north-advisory",
   "metadata": {},
   "outputs": [],
   "source": [
    "def plot_prediction(model):\n",
    "    '''\n",
    "    Plots actual and predicted stock price using a given machine learning model. \n",
    "    Provides evaluation metrics as well.\n",
    "\n",
    "    Parameters:\n",
    "    model: machine learning model\n",
    "\n",
    "    Returns:\n",
    "    None\n",
    "    '''\n",
    "\n",
    "    model.fit(X_train, y_train)  # train model\n",
    "    y_pred = model.predict(X_test)  # make predictions on test dataset\n",
    "    # store the adjusted close results in a dataframe\n",
    "    results = pd.DataFrame(\n",
    "        {'Actual': df['Adj Close'].iloc[-future_days:], 'Predicted': y_pred})\n",
    "\n",
    "    # print evaluation metrics\n",
    "    print('Mean Absolute Error:', metrics.mean_absolute_error(y_test, y_pred))\n",
    "    print('Mean Squared Error:', metrics.mean_squared_error(y_test, y_pred))\n",
    "    print('Root Mean Squared Error:', np.sqrt(\n",
    "        metrics.mean_squared_error(y_test, y_pred)))\n",
    "    print('R2 Score:', metrics.r2_score(y_test, y_pred))\n",
    "\n",
    "    # plot data\n",
    "    df['Adj Close'].plot(label='Actual')\n",
    "    results['Predicted'].plot(label='Predicted')\n",
    "    plt.legend()\n",
    "    plt.xlabel('Date')\n",
    "    plt.ylabel('Adj Close [USD]')\n",
    "    plt.title('AAPL')"
   ]
  },
  {
   "cell_type": "markdown",
   "id": "posted-cancer",
   "metadata": {},
   "source": [
    "### Use decision tree"
   ]
  },
  {
   "cell_type": "code",
   "execution_count": 33,
   "id": "seasonal-partnership",
   "metadata": {},
   "outputs": [
    {
     "name": "stdout",
     "output_type": "stream",
     "text": [
      "Mean Absolute Error: 8.757290903727215\n",
      "Mean Squared Error: 114.54699729070806\n",
      "Root Mean Squared Error: 10.702663093394468\n",
      "R2 Score: -1.7740084784301597\n"
     ]
    },
    {
     "data": {
      "image/png": "[encoded data removed]",
      "text/plain": [
       "<Figure size 432x288 with 1 Axes>"
      ]
     },
     "metadata": {},
     "output_type": "display_data"
    }
   ],
   "source": [
    "plot_prediction(DecisionTreeRegressor())"
   ]
  },
  {
   "cell_type": "markdown",
   "id": "gentle-queens",
   "metadata": {},
   "source": [
    "### Use linear regression"
   ]
  },
  {
   "cell_type": "code",
   "execution_count": 34,
   "id": "italic-logistics",
   "metadata": {},
   "outputs": [
    {
     "name": "stdout",
     "output_type": "stream",
     "text": [
      "Mean Absolute Error: 12.083826151892454\n",
      "Mean Squared Error: 234.786807732997\n",
      "Root Mean Squared Error: 15.322754573933402\n",
      "R2 Score: -4.685880998014762\n"
     ]
    },
    {
     "data": {
      "image/png": "[encoded data removed]",
      "text/plain": [
       "<Figure size 432x288 with 1 Axes>"
      ]
     },
     "metadata": {},
     "output_type": "display_data"
    }
   ],
   "source": [
    "plot_prediction(LinearRegression())"
   ]
  },
  {
   "cell_type": "markdown",
   "id": "animal-boulder",
   "metadata": {},
   "source": [
    "### Use KNN"
   ]
  },
  {
   "cell_type": "code",
   "execution_count": 35,
   "id": "reliable-maximum",
   "metadata": {},
   "outputs": [
    {
     "name": "stdout",
     "output_type": "stream",
     "text": [
      "Mean Absolute Error: 11.117223612467452\n",
      "Mean Squared Error: 162.0063516939334\n",
      "Root Mean Squared Error: 12.728171577015035\n",
      "R2 Score: -2.9233415435409666\n"
     ]
    },
    {
     "data": {
      "image/png": "[encoded data removed]",
      "text/plain": [
       "<Figure size 432x288 with 1 Axes>"
      ]
     },
     "metadata": {},
     "output_type": "display_data"
    }
   ],
   "source": [
    "plot_prediction(KNeighborsRegressor())"
   ]
  },
  {
   "cell_type": "markdown",
   "id": "military-excess",
   "metadata": {},
   "source": [
    "### Use SVM"
   ]
  },
  {
   "cell_type": "code",
   "execution_count": 36,
   "id": "assured-rider",
   "metadata": {},
   "outputs": [
    {
     "name": "stdout",
     "output_type": "stream",
     "text": [
      "Mean Absolute Error: 21.118296408743323\n",
      "Mean Squared Error: 483.3873254022004\n",
      "Root Mean Squared Error: 21.98607116795087\n",
      "R2 Score: -10.706291485129631\n"
     ]
    },
    {
     "data": {
      "image/png": "[encoded data removed]",
      "text/plain": [
       "<Figure size 432x288 with 1 Axes>"
      ]
     },
     "metadata": {},
     "output_type": "display_data"
    }
   ],
   "source": [
    "plot_prediction(SVR())"
   ]
  }
 ],
 "metadata": {
  "kernelspec": {
   "display_name": "Python 3",
   "language": "python",
   "name": "python3"
  },
  "language_info": {
   "codemirror_mode": {
    "name": "ipython",
    "version": 3
   },
   "file_extension": ".py",
   "mimetype": "text/x-python",
   "name": "python",
   "nbconvert_exporter": "python",
   "pygments_lexer": "ipython3",
   "version": "3.7.9"
  }
 },
 "nbformat": 4,
 "nbformat_minor": 5
}
